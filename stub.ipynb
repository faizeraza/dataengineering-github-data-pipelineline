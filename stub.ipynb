{
 "cells": [
  {
   "cell_type": "code",
   "execution_count": 1,
   "metadata": {},
   "outputs": [],
   "source": [
    "import pandas as pd\n",
    "from extracting.extracter import Extracter\n",
    "from processing.processor import Processor\n",
    "from loading.loader import Loader"
   ]
  },
  {
   "cell_type": "code",
   "execution_count": 2,
   "metadata": {},
   "outputs": [],
   "source": [
    "# extractor = Extracter(\"https://github.com/trending?since=daily\")\n",
    "# dfrepo = extractor.get_repo_information()\n",
    "# dfuser = extractor.get_user_information()"
   ]
  },
  {
   "cell_type": "code",
   "execution_count": 3,
   "metadata": {},
   "outputs": [],
   "source": [
    "# repodf = pd.DataFrame(dfrepo)\n",
    "repodf = pd.read_csv(\"rawdf\")"
   ]
  },
  {
   "cell_type": "code",
   "execution_count": 4,
   "metadata": {},
   "outputs": [],
   "source": [
    "# user = pd.DataFrame(dfuser)\n",
    "user = pd.read_csv(\"user\")"
   ]
  },
  {
   "cell_type": "code",
   "execution_count": 5,
   "metadata": {},
   "outputs": [],
   "source": [
    "# rawdf = pd.merge(repodf,user)"
   ]
  },
  {
   "cell_type": "code",
   "execution_count": 6,
   "metadata": {},
   "outputs": [],
   "source": [
    "repodf[\"time_id\"] = pd.to_datetime(repodf[\"time_id\"])"
   ]
  },
  {
   "cell_type": "code",
   "execution_count": 7,
   "metadata": {},
   "outputs": [],
   "source": [
    "# rawdf.to_csv(\"rawdf\")"
   ]
  },
  {
   "cell_type": "code",
   "execution_count": 8,
   "metadata": {},
   "outputs": [],
   "source": [
    "# repodf.to_csv(\"repodf\")"
   ]
  },
  {
   "cell_type": "code",
   "execution_count": 9,
   "metadata": {},
   "outputs": [],
   "source": [
    "# user.to_csv(\"user\")"
   ]
  },
  {
   "cell_type": "code",
   "execution_count": 10,
   "metadata": {},
   "outputs": [
    {
     "name": "stdout",
     "output_type": "stream",
     "text": [
      "<class 'pandas.core.frame.DataFrame'>\n",
      "RangeIndex: 25 entries, 0 to 24\n",
      "Data columns (total 18 columns):\n",
      " #   Column         Non-Null Count  Dtype         \n",
      "---  ------         --------------  -----         \n",
      " 0   Unnamed: 0     25 non-null     int64         \n",
      " 1   repoid         25 non-null     object        \n",
      " 2   repo_name      25 non-null     object        \n",
      " 3   user_id        25 non-null     object        \n",
      " 4   time_id        25 non-null     datetime64[ns]\n",
      " 5   stars          25 non-null     int64         \n",
      " 6   forks          25 non-null     int64         \n",
      " 7   contributions  25 non-null     int64         \n",
      " 8   language_id    24 non-null     object        \n",
      " 9   topics         25 non-null     object        \n",
      " 10  description    25 non-null     object        \n",
      " 11  interval       25 non-null     object        \n",
      " 12  follower       25 non-null     int64         \n",
      " 13  location       13 non-null     object        \n",
      " 14  total_repos    25 non-null     int64         \n",
      " 15  total_gists    25 non-null     int64         \n",
      " 16  email          18 non-null     object        \n",
      " 17  join_date      25 non-null     object        \n",
      "dtypes: datetime64[ns](1), int64(7), object(10)\n",
      "memory usage: 3.6+ KB\n"
     ]
    }
   ],
   "source": [
    "repodf.info()"
   ]
  },
  {
   "cell_type": "code",
   "execution_count": 11,
   "metadata": {},
   "outputs": [
    {
     "name": "stderr",
     "output_type": "stream",
     "text": [
      "C:\\Users\\Faizan Raza\\Desktop\\GDAv2.1\\processing\\processor.py:43: SettingWithCopyWarning: \n",
      "A value is trying to be set on a copy of a slice from a DataFrame.\n",
      "Try using .loc[row_indexer,col_indexer] = value instead\n",
      "\n",
      "See the caveats in the documentation: https://pandas.pydata.org/pandas-docs/stable/user_guide/indexing.html#returning-a-view-versus-a-copy\n",
      "  rank[\"rank_value\"] = self.rank_value\n"
     ]
    }
   ],
   "source": [
    "processor = Processor(user,repodf)\n",
    "userdf = processor.get_user_table()\n",
    "timedf = processor.get_time_table()\n",
    "repositorydf = processor.get_repository_table()\n",
    "factdf = processor.get_fact_table()\n",
    "rankdf = processor.get_rank_table()"
   ]
  },
  {
   "cell_type": "code",
   "execution_count": 12,
   "metadata": {},
   "outputs": [],
   "source": [
    "# "
   ]
  },
  {
   "cell_type": "code",
   "execution_count": 13,
   "metadata": {
    "scrolled": true
   },
   "outputs": [
    {
     "name": "stderr",
     "output_type": "stream",
     "text": [
      "C:\\Users\\Faizan Raza\\AppData\\Local\\Temp\\ipykernel_3888\\3368636440.py:1: SettingWithCopyWarning: \n",
      "A value is trying to be set on a copy of a slice from a DataFrame\n",
      "\n",
      "See the caveats in the documentation: https://pandas.pydata.org/pandas-docs/stable/user_guide/indexing.html#returning-a-view-versus-a-copy\n",
      "  repositorydf.fillna(\"unknown\",inplace=True)\n"
     ]
    }
   ],
   "source": [
    "repositorydf.fillna(\"unknown\",inplace=True)"
   ]
  },
  {
   "cell_type": "code",
   "execution_count": 14,
   "metadata": {},
   "outputs": [],
   "source": [
    "userdf.fillna(\"unknown\",inplace=True)"
   ]
  },
  {
   "cell_type": "code",
   "execution_count": 15,
   "metadata": {},
   "outputs": [
    {
     "name": "stdout",
     "output_type": "stream",
     "text": [
      "<class 'pandas.core.frame.DataFrame'>\n",
      "RangeIndex: 25 entries, 0 to 24\n",
      "Data columns (total 8 columns):\n",
      " #   Column       Non-Null Count  Dtype \n",
      "---  ------       --------------  ----- \n",
      " 0   Unnamed: 0   25 non-null     int64 \n",
      " 1   user_id      25 non-null     object\n",
      " 2   follower     25 non-null     int64 \n",
      " 3   location     25 non-null     object\n",
      " 4   total_repos  25 non-null     int64 \n",
      " 5   total_gists  25 non-null     int64 \n",
      " 6   email        25 non-null     object\n",
      " 7   join_date    25 non-null     object\n",
      "dtypes: int64(4), object(4)\n",
      "memory usage: 1.7+ KB\n"
     ]
    }
   ],
   "source": [
    "userdf.info()"
   ]
  },
  {
   "cell_type": "code",
   "execution_count": 16,
   "metadata": {},
   "outputs": [
    {
     "name": "stdout",
     "output_type": "stream",
     "text": [
      "<class 'pandas.core.frame.DataFrame'>\n",
      "RangeIndex: 25 entries, 0 to 24\n",
      "Data columns (total 4 columns):\n",
      " #   Column       Non-Null Count  Dtype \n",
      "---  ------       --------------  ----- \n",
      " 0   repo_name    25 non-null     object\n",
      " 1   language_id  25 non-null     object\n",
      " 2   topics       25 non-null     object\n",
      " 3   description  25 non-null     object\n",
      "dtypes: object(4)\n",
      "memory usage: 928.0+ bytes\n"
     ]
    }
   ],
   "source": [
    "repositorydf.info()"
   ]
  },
  {
   "cell_type": "code",
   "execution_count": 17,
   "metadata": {},
   "outputs": [
    {
     "data": {
      "text/html": [
       "<div>\n",
       "<style scoped>\n",
       "    .dataframe tbody tr th:only-of-type {\n",
       "        vertical-align: middle;\n",
       "    }\n",
       "\n",
       "    .dataframe tbody tr th {\n",
       "        vertical-align: top;\n",
       "    }\n",
       "\n",
       "    .dataframe thead th {\n",
       "        text-align: right;\n",
       "    }\n",
       "</style>\n",
       "<table border=\"1\" class=\"dataframe\">\n",
       "  <thead>\n",
       "    <tr style=\"text-align: right;\">\n",
       "      <th></th>\n",
       "      <th>Unnamed: 0</th>\n",
       "      <th>user_id</th>\n",
       "      <th>follower</th>\n",
       "      <th>location</th>\n",
       "      <th>total_repos</th>\n",
       "      <th>total_gists</th>\n",
       "      <th>email</th>\n",
       "      <th>join_date</th>\n",
       "    </tr>\n",
       "  </thead>\n",
       "  <tbody>\n",
       "    <tr>\n",
       "      <th>0</th>\n",
       "      <td>0</td>\n",
       "      <td>microsoft</td>\n",
       "      <td>44723</td>\n",
       "      <td>Redmond, WA</td>\n",
       "      <td>5751</td>\n",
       "      <td>0</td>\n",
       "      <td>opensource@microsoft.com</td>\n",
       "      <td>2013-12-10 19:06:48</td>\n",
       "    </tr>\n",
       "    <tr>\n",
       "      <th>1</th>\n",
       "      <td>1</td>\n",
       "      <td>QwenLM</td>\n",
       "      <td>90</td>\n",
       "      <td>China</td>\n",
       "      <td>1</td>\n",
       "      <td>0</td>\n",
       "      <td>qianwen_opensource@alibabacloud.com</td>\n",
       "      <td>2023-08-02 08:18:52</td>\n",
       "    </tr>\n",
       "    <tr>\n",
       "      <th>2</th>\n",
       "      <td>2</td>\n",
       "      <td>manticoresoftware</td>\n",
       "      <td>89</td>\n",
       "      <td>unknown</td>\n",
       "      <td>88</td>\n",
       "      <td>0</td>\n",
       "      <td>contact@manticoresearch.com</td>\n",
       "      <td>2017-05-19 03:53:03</td>\n",
       "    </tr>\n",
       "    <tr>\n",
       "      <th>3</th>\n",
       "      <td>3</td>\n",
       "      <td>guochengqian</td>\n",
       "      <td>265</td>\n",
       "      <td>Thuwal, Saudi Arabia</td>\n",
       "      <td>35</td>\n",
       "      <td>1</td>\n",
       "      <td>guocheng.qian@outlook.com</td>\n",
       "      <td>2019-03-21 08:39:25</td>\n",
       "    </tr>\n",
       "    <tr>\n",
       "      <th>4</th>\n",
       "      <td>4</td>\n",
       "      <td>facebookresearch</td>\n",
       "      <td>14104</td>\n",
       "      <td>Menlo Park, California</td>\n",
       "      <td>878</td>\n",
       "      <td>0</td>\n",
       "      <td>unknown</td>\n",
       "      <td>2016-01-28 18:56:55</td>\n",
       "    </tr>\n",
       "  </tbody>\n",
       "</table>\n",
       "</div>"
      ],
      "text/plain": [
       "   Unnamed: 0            user_id  follower                location  \\\n",
       "0           0          microsoft     44723             Redmond, WA   \n",
       "1           1             QwenLM        90                   China   \n",
       "2           2  manticoresoftware        89                 unknown   \n",
       "3           3       guochengqian       265    Thuwal, Saudi Arabia   \n",
       "4           4   facebookresearch     14104  Menlo Park, California   \n",
       "\n",
       "   total_repos  total_gists                                email  \\\n",
       "0         5751            0             opensource@microsoft.com   \n",
       "1            1            0  qianwen_opensource@alibabacloud.com   \n",
       "2           88            0          contact@manticoresearch.com   \n",
       "3           35            1            guocheng.qian@outlook.com   \n",
       "4          878            0                              unknown   \n",
       "\n",
       "             join_date  \n",
       "0  2013-12-10 19:06:48  \n",
       "1  2023-08-02 08:18:52  \n",
       "2  2017-05-19 03:53:03  \n",
       "3  2019-03-21 08:39:25  \n",
       "4  2016-01-28 18:56:55  "
      ]
     },
     "execution_count": 17,
     "metadata": {},
     "output_type": "execute_result"
    }
   ],
   "source": [
    "user.head()"
   ]
  },
  {
   "cell_type": "code",
   "execution_count": 18,
   "metadata": {},
   "outputs": [
    {
     "data": {
      "text/plain": [
       "pandas.core.frame.DataFrame"
      ]
     },
     "execution_count": 18,
     "metadata": {},
     "output_type": "execute_result"
    }
   ],
   "source": [
    "type(timedf)"
   ]
  },
  {
   "cell_type": "code",
   "execution_count": 19,
   "metadata": {},
   "outputs": [],
   "source": [
    "# repodf[\"time_id\"] = pd.to_datetime(repodf[\"time_id\"])"
   ]
  },
  {
   "cell_type": "code",
   "execution_count": 20,
   "metadata": {},
   "outputs": [],
   "source": [
    "userdf[\"followers\"] = userdf[\"follower\"]"
   ]
  },
  {
   "cell_type": "code",
   "execution_count": 21,
   "metadata": {},
   "outputs": [
    {
     "name": "stdout",
     "output_type": "stream",
     "text": [
      "[\"'chinese'\", \" 'large-language-models'\", \" 'natural-language-processing'\", \" 'flash-attention'\", \" 'llm'\", \" 'pretrained-models'\"]\n"
     ]
    }
   ],
   "source": [
    "topics = repositorydf[\"topics\"][1][1:-1]\n",
    "print(topics.split(\",\"))"
   ]
  },
  {
   "cell_type": "code",
   "execution_count": 22,
   "metadata": {},
   "outputs": [
    {
     "name": "stdout",
     "output_type": "stream",
     "text": [
      "0\n",
      "1\n",
      "2\n",
      "3\n",
      "4\n",
      "5\n",
      "6\n",
      "7\n",
      "8\n",
      "9\n",
      "10\n",
      "11\n",
      "12\n",
      "13\n",
      "14\n",
      "15\n",
      "16\n",
      "17\n",
      "18\n",
      "19\n",
      "20\n",
      "21\n",
      "22\n",
      "23\n",
      "24\n"
     ]
    }
   ],
   "source": [
    "for index, row in repositorydf.iterrows():\n",
    "    print(index)"
   ]
  },
  {
   "cell_type": "code",
   "execution_count": null,
   "metadata": {},
   "outputs": [],
   "source": []
  },
  {
   "cell_type": "code",
   "execution_count": 23,
   "metadata": {},
   "outputs": [],
   "source": [
    "loader = Loader()\n",
    "loader.load_user(userdf)\n",
    "loader.load_time(timedf)\n",
    "loader.load_repository(repositorydf)\n",
    "loader.load_rank(rankdf)\n",
    "loader.load_fact(repodf,userdf)\n",
    "loader.commit_data()"
   ]
  },
  {
   "cell_type": "code",
   "execution_count": 24,
   "metadata": {},
   "outputs": [
    {
     "name": "stdout",
     "output_type": "stream",
     "text": [
      "<class 'pandas.core.frame.DataFrame'>\n",
      "RangeIndex: 25 entries, 0 to 24\n",
      "Data columns (total 4 columns):\n",
      " #   Column     Non-Null Count  Dtype         \n",
      "---  ------     --------------  -----         \n",
      " 0   timestamp  25 non-null     datetime64[ns]\n",
      " 1   dow        25 non-null     object        \n",
      " 2   month      25 non-null     object        \n",
      " 3   year       25 non-null     object        \n",
      "dtypes: datetime64[ns](1), object(3)\n",
      "memory usage: 928.0+ bytes\n"
     ]
    }
   ],
   "source": [
    "timedf.info()"
   ]
  },
  {
   "cell_type": "code",
   "execution_count": null,
   "metadata": {},
   "outputs": [],
   "source": []
  }
 ],
 "metadata": {
  "kernelspec": {
   "display_name": "Python 3 (ipykernel)",
   "language": "python",
   "name": "python3"
  },
  "language_info": {
   "codemirror_mode": {
    "name": "ipython",
    "version": 3
   },
   "file_extension": ".py",
   "mimetype": "text/x-python",
   "name": "python",
   "nbconvert_exporter": "python",
   "pygments_lexer": "ipython3",
   "version": "3.9.13"
  }
 },
 "nbformat": 4,
 "nbformat_minor": 2
}
