{
 "cells": [
  {
   "cell_type": "code",
   "execution_count": 1,
   "metadata": {},
   "outputs": [],
   "source": [
    "import pandas as pd\n",
    "from extracting.extracter import Extracter\n",
    "from processing.processor import Processor\n",
    "from loading.loader import Loader"
   ]
  },
  {
   "cell_type": "code",
   "execution_count": 2,
   "metadata": {},
   "outputs": [],
   "source": [
    "extractor = Extracter(\"https://github.com/trending?since=monthly\")\n",
    "repodf = extractor.get_repo_information()\n",
    "userdf = extractor.get_user_information()"
   ]
  },
  {
   "cell_type": "code",
   "execution_count": 3,
   "metadata": {},
   "outputs": [],
   "source": [
    "repodf = pd.DataFrame(repodf)\n",
    "# repodf = pd.read_csv(\"rawdf\")"
   ]
  },
  {
   "cell_type": "code",
   "execution_count": 4,
   "metadata": {},
   "outputs": [],
   "source": [
    "userdf = pd.DataFrame(userdf)\n",
    "# userdf = pd.read_csv(\"user\")"
   ]
  },
  {
   "cell_type": "code",
   "execution_count": 5,
   "metadata": {},
   "outputs": [],
   "source": [
    "repodf[\"time_id\"] = pd.to_datetime(repodf[\"time_id\"])"
   ]
  },
  {
   "cell_type": "code",
   "execution_count": 6,
   "metadata": {},
   "outputs": [
    {
     "name": "stderr",
     "output_type": "stream",
     "text": [
      "C:\\Users\\Faizan Raza\\Desktop\\GDAv2.1\\processing\\processor.py:43: SettingWithCopyWarning: \n",
      "A value is trying to be set on a copy of a slice from a DataFrame.\n",
      "Try using .loc[row_indexer,col_indexer] = value instead\n",
      "\n",
      "See the caveats in the documentation: https://pandas.pydata.org/pandas-docs/stable/user_guide/indexing.html#returning-a-view-versus-a-copy\n",
      "  rank[\"rank_value\"] = self.rank_value\n"
     ]
    }
   ],
   "source": [
    "processor = Processor(userdf,repodf)\n",
    "userdf = processor.get_user_table()\n",
    "timedf = processor.get_time_table()\n",
    "repositorydf = processor.get_repository_table()\n",
    "factdf = processor.get_fact_table()\n",
    "rankdf = processor.get_rank_table()"
   ]
  },
  {
   "cell_type": "code",
   "execution_count": 7,
   "metadata": {
    "scrolled": true
   },
   "outputs": [
    {
     "name": "stderr",
     "output_type": "stream",
     "text": [
      "C:\\Users\\Faizan Raza\\AppData\\Local\\Temp\\ipykernel_20384\\3368636440.py:1: SettingWithCopyWarning: \n",
      "A value is trying to be set on a copy of a slice from a DataFrame\n",
      "\n",
      "See the caveats in the documentation: https://pandas.pydata.org/pandas-docs/stable/user_guide/indexing.html#returning-a-view-versus-a-copy\n",
      "  repositorydf.fillna(\"unknown\",inplace=True)\n"
     ]
    }
   ],
   "source": [
    "repositorydf.fillna(\"unknown\",inplace=True)"
   ]
  },
  {
   "cell_type": "code",
   "execution_count": 8,
   "metadata": {},
   "outputs": [],
   "source": [
    "userdf.fillna(\"unknown\",inplace=True)"
   ]
  },
  {
   "cell_type": "code",
   "execution_count": 9,
   "metadata": {
    "scrolled": true
   },
   "outputs": [
    {
     "name": "stdout",
     "output_type": "stream",
     "text": [
      "row0\n",
      "row1\n",
      "row2\n",
      "row3\n",
      "row4\n",
      "row5\n",
      "row6\n",
      "row7\n",
      "row8\n",
      "row9\n",
      "row10\n",
      "row11\n",
      "row12\n",
      "row13\n",
      "row14\n",
      "row15\n",
      "row16\n",
      "row17\n",
      "row18\n",
      "row19\n",
      "row20\n",
      "row21\n",
      "row22\n",
      "row23\n",
      "row24\n"
     ]
    }
   ],
   "source": [
    "loader = Loader()\n",
    "loader.load_user(userdf)\n",
    "loader.load_time(timedf)\n",
    "loader.load_repository(repositorydf)\n",
    "loader.load_rank(rankdf)\n",
    "loader.load_fact(repodf,userdf)\n",
    "loader.commit_data()"
   ]
  },
  {
   "cell_type": "code",
   "execution_count": null,
   "metadata": {},
   "outputs": [],
   "source": []
  }
 ],
 "metadata": {
  "kernelspec": {
   "display_name": "Python 3 (ipykernel)",
   "language": "python",
   "name": "python3"
  },
  "language_info": {
   "codemirror_mode": {
    "name": "ipython",
    "version": 3
   },
   "file_extension": ".py",
   "mimetype": "text/x-python",
   "name": "python",
   "nbconvert_exporter": "python",
   "pygments_lexer": "ipython3",
   "version": "3.9.13"
  }
 },
 "nbformat": 4,
 "nbformat_minor": 2
}
