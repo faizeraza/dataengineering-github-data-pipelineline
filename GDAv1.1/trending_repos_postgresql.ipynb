{
 "cells": [
  {
   "cell_type": "code",
   "execution_count": 195,
   "id": "5068be88",
   "metadata": {},
   "outputs": [],
   "source": [
    "from bs4 import BeautifulSoup\n",
    "import requests\n",
    "import pandas as pd\n",
    "import matplotlib.pyplot as plt\n",
    "import datetime \n",
    "import numpy as np\n",
    "import psycopg2\n",
    "import sys"
   ]
  },
  {
   "cell_type": "code",
   "execution_count": 226,
   "id": "f6217b77",
   "metadata": {},
   "outputs": [],
   "source": [
    "def downloadpage(url):\n",
    "    re = requests.get(url)\n",
    "    soup = BeautifulSoup(re.text,\"html.parser\")\n",
    "    return soup"
   ]
  },
  {
   "cell_type": "code",
   "execution_count": 227,
   "id": "3c8bdfeb",
   "metadata": {},
   "outputs": [],
   "source": [
    "def since(daterange):\n",
    "    daterange.lower()\n",
    "    url = ''\n",
    "    if daterange == \"a\":\n",
    "        url = \"https://github.com/trending?since=monthly\"\n",
    "    elif daterange == \"b\":\n",
    "        url = \"https://github.com/trending?since=weekly\"\n",
    "    else:\n",
    "        url = \"https://github.com/trending?since=daily\"\n",
    "    return url"
   ]
  },
  {
   "cell_type": "code",
   "execution_count": 228,
   "id": "0ce46836",
   "metadata": {},
   "outputs": [
    {
     "name": "stdout",
     "output_type": "stream",
     "text": [
      "Choose (a) for Monthly -(b) for Weekly -(c) for Daily: b\n"
     ]
    }
   ],
   "source": [
    "userinput  = input(\"Choose (a) for Monthly -(b) for Weekly -(c) for Daily: \")\n",
    "url  = since(userinput)"
   ]
  },
  {
   "cell_type": "code",
   "execution_count": 229,
   "id": "9e448bea",
   "metadata": {},
   "outputs": [],
   "source": [
    "page = downloadpage(url)"
   ]
  },
  {
   "cell_type": "code",
   "execution_count": 230,
   "id": "9699b34c",
   "metadata": {},
   "outputs": [],
   "source": [
    "def user(box):\n",
    "    h1 =box.find(\"h1\",class_=\"h3 lh-condensed\")\n",
    "    a = h1.find('a',href=True)\n",
    "    return a['href'][1:]"
   ]
  },
  {
   "cell_type": "code",
   "execution_count": 231,
   "id": "6c4b4a4f",
   "metadata": {},
   "outputs": [],
   "source": [
    "def technology(box):\n",
    "    div = box.find(\"div\",class_=\"f6 color-fg-muted mt-2\")\n",
    "    lang = div.find(\"span\",itemprop = \"programmingLanguage\")\n",
    "    if lang!=None:\n",
    "            return lang.text\n",
    "    else:\n",
    "            return \"None\""
   ]
  },
  {
   "cell_type": "code",
   "execution_count": 232,
   "id": "e3306785",
   "metadata": {},
   "outputs": [],
   "source": [
    "def starsnForks(box):\n",
    "    a = box.find_all('a',class_=\"Link--muted d-inline-block mr-3\")\n",
    "    starnfork = [a[0].get_text().strip(),a[1].get_text().strip()]\n",
    "    return starnfork"
   ]
  },
  {
   "cell_type": "code",
   "execution_count": 233,
   "id": "7e2eb0b9",
   "metadata": {},
   "outputs": [],
   "source": [
    "def builtBy(box):\n",
    "    span = box.find('span',class_=\"d-inline-block mr-3\")\n",
    "    return [x.get('href')[1:] for x in span.find_all('a',class_=\"d-inline-block\")]"
   ]
  },
  {
   "cell_type": "code",
   "execution_count": 234,
   "id": "5dac136d",
   "metadata": {},
   "outputs": [],
   "source": [
    "def main(page):\n",
    "    for box in page.find_all(\"article\",class_='Box-row'):\n",
    "        users = user(box)\n",
    "        tech = technology(box)\n",
    "        star = starsnForks(box)[0]\n",
    "        fork = starsnForks(box)[1]\n",
    "        contributers = builtBy(box)\n",
    "        row = {\"Repository\":users,\"Technology\":tech,\"Stars\":star,\"Forks\":fork,\"Built_by\":contributers}\n",
    "        table.loc[len(table)] = [users,tech,star,fork,contributers]"
   ]
  },
  {
   "cell_type": "code",
   "execution_count": 235,
   "id": "8259abca",
   "metadata": {},
   "outputs": [
    {
     "name": "stderr",
     "output_type": "stream",
     "text": [
      "C:\\ProgramData\\Anaconda3\\lib\\site-packages\\pandas\\core\\dtypes\\cast.py:883: VisibleDeprecationWarning: Creating an ndarray from ragged nested sequences (which is a list-or-tuple of lists-or-tuples-or ndarrays with different lengths or shapes) is deprecated. If you meant to do this, you must specify 'dtype=object' when creating the ndarray.\n",
      "  element = np.asarray(element)\n"
     ]
    }
   ],
   "source": [
    "table=pd.DataFrame({\"Repository\":[],\"Technology\":[],\"Stars\":[],\"Forks\":[],\"Built_by\":[]})\n",
    "main(page)"
   ]
  },
  {
   "cell_type": "code",
   "execution_count": 236,
   "id": "822868d9",
   "metadata": {},
   "outputs": [
    {
     "data": {
      "text/html": [
       "<div>\n",
       "<style scoped>\n",
       "    .dataframe tbody tr th:only-of-type {\n",
       "        vertical-align: middle;\n",
       "    }\n",
       "\n",
       "    .dataframe tbody tr th {\n",
       "        vertical-align: top;\n",
       "    }\n",
       "\n",
       "    .dataframe thead th {\n",
       "        text-align: right;\n",
       "    }\n",
       "</style>\n",
       "<table border=\"1\" class=\"dataframe\">\n",
       "  <thead>\n",
       "    <tr style=\"text-align: right;\">\n",
       "      <th></th>\n",
       "      <th>Repository</th>\n",
       "      <th>Technology</th>\n",
       "      <th>Stars</th>\n",
       "      <th>Forks</th>\n",
       "      <th>Built_by</th>\n",
       "    </tr>\n",
       "  </thead>\n",
       "  <tbody>\n",
       "    <tr>\n",
       "      <th>0</th>\n",
       "      <td>bregman-arie/devops-exercises</td>\n",
       "      <td>Python</td>\n",
       "      <td>39,060</td>\n",
       "      <td>8,609</td>\n",
       "      <td>[surister, austinsonger, bregman-arie, knoxkno...</td>\n",
       "    </tr>\n",
       "    <tr>\n",
       "      <th>1</th>\n",
       "      <td>TheAppleTucker/backend-GPT</td>\n",
       "      <td>JavaScript</td>\n",
       "      <td>2,326</td>\n",
       "      <td>196</td>\n",
       "      <td>[evanmays, TheAppleTucker, davidyue1]</td>\n",
       "    </tr>\n",
       "    <tr>\n",
       "      <th>2</th>\n",
       "      <td>apitable/apitable</td>\n",
       "      <td>TypeScript</td>\n",
       "      <td>5,096</td>\n",
       "      <td>288</td>\n",
       "      <td>[mr-kelly, wangkailang, JaneSu, SHEEHAN0802, C...</td>\n",
       "    </tr>\n",
       "    <tr>\n",
       "      <th>3</th>\n",
       "      <td>shadcn/ui</td>\n",
       "      <td>TypeScript</td>\n",
       "      <td>7,210</td>\n",
       "      <td>233</td>\n",
       "      <td>[shadcn, Andersgee, dgknca, elliot, lucaspessi...</td>\n",
       "    </tr>\n",
       "    <tr>\n",
       "      <th>4</th>\n",
       "      <td>karpathy/nn-zero-to-hero</td>\n",
       "      <td>Jupyter Notebook</td>\n",
       "      <td>6,017</td>\n",
       "      <td>500</td>\n",
       "      <td>[karpathy, edvenson]</td>\n",
       "    </tr>\n",
       "  </tbody>\n",
       "</table>\n",
       "</div>"
      ],
      "text/plain": [
       "                      Repository        Technology   Stars  Forks  \\\n",
       "0  bregman-arie/devops-exercises            Python  39,060  8,609   \n",
       "1     TheAppleTucker/backend-GPT        JavaScript   2,326    196   \n",
       "2              apitable/apitable        TypeScript   5,096    288   \n",
       "3                      shadcn/ui        TypeScript   7,210    233   \n",
       "4       karpathy/nn-zero-to-hero  Jupyter Notebook   6,017    500   \n",
       "\n",
       "                                            Built_by  \n",
       "0  [surister, austinsonger, bregman-arie, knoxkno...  \n",
       "1              [evanmays, TheAppleTucker, davidyue1]  \n",
       "2  [mr-kelly, wangkailang, JaneSu, SHEEHAN0802, C...  \n",
       "3  [shadcn, Andersgee, dgknca, elliot, lucaspessi...  \n",
       "4                               [karpathy, edvenson]  "
      ]
     },
     "execution_count": 236,
     "metadata": {},
     "output_type": "execute_result"
    }
   ],
   "source": [
    "table.head()"
   ]
  },
  {
   "cell_type": "code",
   "execution_count": 237,
   "id": "96533987",
   "metadata": {},
   "outputs": [],
   "source": [
    "userrepo = table[\"Repository\"].str.split(\"/\",n=1,expand =True)"
   ]
  },
  {
   "cell_type": "code",
   "execution_count": 238,
   "id": "1bcd5e7c",
   "metadata": {},
   "outputs": [],
   "source": [
    "table[\"User\"] = userrepo[0]"
   ]
  },
  {
   "cell_type": "code",
   "execution_count": 239,
   "id": "056d632d",
   "metadata": {},
   "outputs": [],
   "source": [
    "table.drop(columns=[\"Repository\"],inplace=True)"
   ]
  },
  {
   "cell_type": "code",
   "execution_count": 240,
   "id": "06f4d0c1",
   "metadata": {},
   "outputs": [],
   "source": [
    "table[\"Repository\"] = userrepo[1]"
   ]
  },
  {
   "cell_type": "code",
   "execution_count": 241,
   "id": "29b5ad87",
   "metadata": {},
   "outputs": [],
   "source": [
    "column = table.pop(\"User\")\n",
    "table.insert(0,'User',column)"
   ]
  },
  {
   "cell_type": "code",
   "execution_count": 242,
   "id": "346263e1",
   "metadata": {},
   "outputs": [],
   "source": [
    "column = table.pop(\"Repository\")\n",
    "table.insert(1,'Repository',column)"
   ]
  },
  {
   "cell_type": "code",
   "execution_count": 243,
   "id": "f14c558a",
   "metadata": {},
   "outputs": [],
   "source": [
    "table[\"Contributions\"] = table[\"Built_by\"].apply(lambda row: len(row))"
   ]
  },
  {
   "cell_type": "code",
   "execution_count": 244,
   "id": "3589afd4",
   "metadata": {},
   "outputs": [
    {
     "data": {
      "text/html": [
       "<div>\n",
       "<style scoped>\n",
       "    .dataframe tbody tr th:only-of-type {\n",
       "        vertical-align: middle;\n",
       "    }\n",
       "\n",
       "    .dataframe tbody tr th {\n",
       "        vertical-align: top;\n",
       "    }\n",
       "\n",
       "    .dataframe thead th {\n",
       "        text-align: right;\n",
       "    }\n",
       "</style>\n",
       "<table border=\"1\" class=\"dataframe\">\n",
       "  <thead>\n",
       "    <tr style=\"text-align: right;\">\n",
       "      <th></th>\n",
       "      <th>User</th>\n",
       "      <th>Repository</th>\n",
       "      <th>Technology</th>\n",
       "      <th>Stars</th>\n",
       "      <th>Forks</th>\n",
       "      <th>Built_by</th>\n",
       "      <th>Contributions</th>\n",
       "    </tr>\n",
       "  </thead>\n",
       "  <tbody>\n",
       "    <tr>\n",
       "      <th>0</th>\n",
       "      <td>bregman-arie</td>\n",
       "      <td>devops-exercises</td>\n",
       "      <td>Python</td>\n",
       "      <td>39,060</td>\n",
       "      <td>8,609</td>\n",
       "      <td>[surister, austinsonger, bregman-arie, knoxkno...</td>\n",
       "      <td>5</td>\n",
       "    </tr>\n",
       "    <tr>\n",
       "      <th>1</th>\n",
       "      <td>TheAppleTucker</td>\n",
       "      <td>backend-GPT</td>\n",
       "      <td>JavaScript</td>\n",
       "      <td>2,326</td>\n",
       "      <td>196</td>\n",
       "      <td>[evanmays, TheAppleTucker, davidyue1]</td>\n",
       "      <td>3</td>\n",
       "    </tr>\n",
       "    <tr>\n",
       "      <th>2</th>\n",
       "      <td>apitable</td>\n",
       "      <td>apitable</td>\n",
       "      <td>TypeScript</td>\n",
       "      <td>5,096</td>\n",
       "      <td>288</td>\n",
       "      <td>[mr-kelly, wangkailang, JaneSu, SHEEHAN0802, C...</td>\n",
       "      <td>5</td>\n",
       "    </tr>\n",
       "    <tr>\n",
       "      <th>3</th>\n",
       "      <td>shadcn</td>\n",
       "      <td>ui</td>\n",
       "      <td>TypeScript</td>\n",
       "      <td>7,210</td>\n",
       "      <td>233</td>\n",
       "      <td>[shadcn, Andersgee, dgknca, elliot, lucaspessi...</td>\n",
       "      <td>5</td>\n",
       "    </tr>\n",
       "    <tr>\n",
       "      <th>4</th>\n",
       "      <td>karpathy</td>\n",
       "      <td>nn-zero-to-hero</td>\n",
       "      <td>Jupyter Notebook</td>\n",
       "      <td>6,017</td>\n",
       "      <td>500</td>\n",
       "      <td>[karpathy, edvenson]</td>\n",
       "      <td>2</td>\n",
       "    </tr>\n",
       "  </tbody>\n",
       "</table>\n",
       "</div>"
      ],
      "text/plain": [
       "             User        Repository        Technology   Stars  Forks  \\\n",
       "0    bregman-arie  devops-exercises            Python  39,060  8,609   \n",
       "1  TheAppleTucker       backend-GPT        JavaScript   2,326    196   \n",
       "2        apitable          apitable        TypeScript   5,096    288   \n",
       "3          shadcn                ui        TypeScript   7,210    233   \n",
       "4        karpathy   nn-zero-to-hero  Jupyter Notebook   6,017    500   \n",
       "\n",
       "                                            Built_by  Contributions  \n",
       "0  [surister, austinsonger, bregman-arie, knoxkno...              5  \n",
       "1              [evanmays, TheAppleTucker, davidyue1]              3  \n",
       "2  [mr-kelly, wangkailang, JaneSu, SHEEHAN0802, C...              5  \n",
       "3  [shadcn, Andersgee, dgknca, elliot, lucaspessi...              5  \n",
       "4                               [karpathy, edvenson]              2  "
      ]
     },
     "execution_count": 244,
     "metadata": {},
     "output_type": "execute_result"
    }
   ],
   "source": [
    "table.head()"
   ]
  },
  {
   "cell_type": "code",
   "execution_count": 245,
   "id": "5ff5e6c8",
   "metadata": {},
   "outputs": [
    {
     "data": {
      "text/plain": [
       "<BarContainer object of 5 artists>"
      ]
     },
     "execution_count": 245,
     "metadata": {},
     "output_type": "execute_result"
    },
    {
     "data": {
      "image/png": "[encoded data removed]",
      "text/plain": [
       "<Figure size 500x500 with 1 Axes>"
      ]
     },
     "metadata": {},
     "output_type": "display_data"
    }
   ],
   "source": [
    "plt.figure(figsize=(5,5))\n",
    "plt.bar(table[\"User\"][:5],table['Contributions'][:5],width=0.5)"
   ]
  },
  {
   "cell_type": "code",
   "execution_count": 246,
   "id": "39010950",
   "metadata": {},
   "outputs": [],
   "source": [
    "data = dict(table['Technology'].value_counts())"
   ]
  },
  {
   "cell_type": "code",
   "execution_count": 247,
   "id": "e290c569",
   "metadata": {},
   "outputs": [],
   "source": [
    "def func(pct, allvalues):\n",
    "    absolute = int(pct / 100.*np.sum(allvalues))\n",
    "    return \"{:.1f}%\".format(pct, absolute)"
   ]
  },
  {
   "cell_type": "code",
   "execution_count": 248,
   "id": "e01d6896",
   "metadata": {},
   "outputs": [
    {
     "data": {
      "image/png": "[encoded data removed]",
      "text/plain": [
       "<Figure size 700x700 with 1 Axes>"
      ]
     },
     "metadata": {},
     "output_type": "display_data"
    }
   ],
   "source": [
    "fig, ax = plt.subplots(figsize =(7, 7))\n",
    "ax.pie(list(data.values()),autopct = lambda pct: func(pct, list(data.values())),labels=list(data.keys()),shadow=True)\n",
    "ax.legend(title =\"Programing Languages\",loc =\"center left\",bbox_to_anchor =(1, 0, 0.5, 1.5))\n",
    "plt.show()"
   ]
  },
  {
   "cell_type": "code",
   "execution_count": 249,
   "id": "656c6f94",
   "metadata": {},
   "outputs": [
    {
     "data": {
      "text/html": [
       "<div>\n",
       "<style scoped>\n",
       "    .dataframe tbody tr th:only-of-type {\n",
       "        vertical-align: middle;\n",
       "    }\n",
       "\n",
       "    .dataframe tbody tr th {\n",
       "        vertical-align: top;\n",
       "    }\n",
       "\n",
       "    .dataframe thead th {\n",
       "        text-align: right;\n",
       "    }\n",
       "</style>\n",
       "<table border=\"1\" class=\"dataframe\">\n",
       "  <thead>\n",
       "    <tr style=\"text-align: right;\">\n",
       "      <th></th>\n",
       "      <th>User</th>\n",
       "      <th>Repository</th>\n",
       "      <th>Technology</th>\n",
       "      <th>Stars</th>\n",
       "      <th>Forks</th>\n",
       "      <th>Built_by</th>\n",
       "      <th>Contributions</th>\n",
       "    </tr>\n",
       "  </thead>\n",
       "  <tbody>\n",
       "    <tr>\n",
       "      <th>0</th>\n",
       "      <td>bregman-arie</td>\n",
       "      <td>devops-exercises</td>\n",
       "      <td>Python</td>\n",
       "      <td>39,060</td>\n",
       "      <td>8,609</td>\n",
       "      <td>[surister, austinsonger, bregman-arie, knoxkno...</td>\n",
       "      <td>5</td>\n",
       "    </tr>\n",
       "    <tr>\n",
       "      <th>1</th>\n",
       "      <td>TheAppleTucker</td>\n",
       "      <td>backend-GPT</td>\n",
       "      <td>JavaScript</td>\n",
       "      <td>2,326</td>\n",
       "      <td>196</td>\n",
       "      <td>[evanmays, TheAppleTucker, davidyue1]</td>\n",
       "      <td>3</td>\n",
       "    </tr>\n",
       "    <tr>\n",
       "      <th>2</th>\n",
       "      <td>apitable</td>\n",
       "      <td>apitable</td>\n",
       "      <td>TypeScript</td>\n",
       "      <td>5,096</td>\n",
       "      <td>288</td>\n",
       "      <td>[mr-kelly, wangkailang, JaneSu, SHEEHAN0802, C...</td>\n",
       "      <td>5</td>\n",
       "    </tr>\n",
       "    <tr>\n",
       "      <th>3</th>\n",
       "      <td>shadcn</td>\n",
       "      <td>ui</td>\n",
       "      <td>TypeScript</td>\n",
       "      <td>7,210</td>\n",
       "      <td>233</td>\n",
       "      <td>[shadcn, Andersgee, dgknca, elliot, lucaspessi...</td>\n",
       "      <td>5</td>\n",
       "    </tr>\n",
       "    <tr>\n",
       "      <th>4</th>\n",
       "      <td>karpathy</td>\n",
       "      <td>nn-zero-to-hero</td>\n",
       "      <td>Jupyter Notebook</td>\n",
       "      <td>6,017</td>\n",
       "      <td>500</td>\n",
       "      <td>[karpathy, edvenson]</td>\n",
       "      <td>2</td>\n",
       "    </tr>\n",
       "  </tbody>\n",
       "</table>\n",
       "</div>"
      ],
      "text/plain": [
       "             User        Repository        Technology   Stars  Forks  \\\n",
       "0    bregman-arie  devops-exercises            Python  39,060  8,609   \n",
       "1  TheAppleTucker       backend-GPT        JavaScript   2,326    196   \n",
       "2        apitable          apitable        TypeScript   5,096    288   \n",
       "3          shadcn                ui        TypeScript   7,210    233   \n",
       "4        karpathy   nn-zero-to-hero  Jupyter Notebook   6,017    500   \n",
       "\n",
       "                                            Built_by  Contributions  \n",
       "0  [surister, austinsonger, bregman-arie, knoxkno...              5  \n",
       "1              [evanmays, TheAppleTucker, davidyue1]              3  \n",
       "2  [mr-kelly, wangkailang, JaneSu, SHEEHAN0802, C...              5  \n",
       "3  [shadcn, Andersgee, dgknca, elliot, lucaspessi...              5  \n",
       "4                               [karpathy, edvenson]              2  "
      ]
     },
     "execution_count": 249,
     "metadata": {},
     "output_type": "execute_result"
    }
   ],
   "source": [
    "table.head()"
   ]
  },
  {
   "cell_type": "code",
   "execution_count": 250,
   "id": "514da199",
   "metadata": {},
   "outputs": [],
   "source": [
    "table['Stars'] = table['Stars'].apply(lambda x:int(x.replace(\",\",\"\")))\n",
    "table['Forks'] = table['Forks'].apply(lambda y:int(y.replace(\",\",\"\")))\n",
    "table['Contributions'] = table['Contributions'].apply(lambda y:int(y))"
   ]
  },
  {
   "cell_type": "code",
   "execution_count": 251,
   "id": "94e76c04",
   "metadata": {},
   "outputs": [],
   "source": [
    "table.drop('Built_by',inplace=True,axis=1)"
   ]
  },
  {
   "cell_type": "code",
   "execution_count": 252,
   "id": "7d6e6c49",
   "metadata": {},
   "outputs": [
    {
     "data": {
      "text/html": [
       "<div>\n",
       "<style scoped>\n",
       "    .dataframe tbody tr th:only-of-type {\n",
       "        vertical-align: middle;\n",
       "    }\n",
       "\n",
       "    .dataframe tbody tr th {\n",
       "        vertical-align: top;\n",
       "    }\n",
       "\n",
       "    .dataframe thead th {\n",
       "        text-align: right;\n",
       "    }\n",
       "</style>\n",
       "<table border=\"1\" class=\"dataframe\">\n",
       "  <thead>\n",
       "    <tr style=\"text-align: right;\">\n",
       "      <th></th>\n",
       "      <th>User</th>\n",
       "      <th>Repository</th>\n",
       "      <th>Technology</th>\n",
       "      <th>Stars</th>\n",
       "      <th>Forks</th>\n",
       "      <th>Contributions</th>\n",
       "    </tr>\n",
       "  </thead>\n",
       "  <tbody>\n",
       "    <tr>\n",
       "      <th>0</th>\n",
       "      <td>bregman-arie</td>\n",
       "      <td>devops-exercises</td>\n",
       "      <td>Python</td>\n",
       "      <td>39060</td>\n",
       "      <td>8609</td>\n",
       "      <td>5</td>\n",
       "    </tr>\n",
       "    <tr>\n",
       "      <th>1</th>\n",
       "      <td>TheAppleTucker</td>\n",
       "      <td>backend-GPT</td>\n",
       "      <td>JavaScript</td>\n",
       "      <td>2326</td>\n",
       "      <td>196</td>\n",
       "      <td>3</td>\n",
       "    </tr>\n",
       "    <tr>\n",
       "      <th>2</th>\n",
       "      <td>apitable</td>\n",
       "      <td>apitable</td>\n",
       "      <td>TypeScript</td>\n",
       "      <td>5096</td>\n",
       "      <td>288</td>\n",
       "      <td>5</td>\n",
       "    </tr>\n",
       "    <tr>\n",
       "      <th>3</th>\n",
       "      <td>shadcn</td>\n",
       "      <td>ui</td>\n",
       "      <td>TypeScript</td>\n",
       "      <td>7210</td>\n",
       "      <td>233</td>\n",
       "      <td>5</td>\n",
       "    </tr>\n",
       "    <tr>\n",
       "      <th>4</th>\n",
       "      <td>karpathy</td>\n",
       "      <td>nn-zero-to-hero</td>\n",
       "      <td>Jupyter Notebook</td>\n",
       "      <td>6017</td>\n",
       "      <td>500</td>\n",
       "      <td>2</td>\n",
       "    </tr>\n",
       "  </tbody>\n",
       "</table>\n",
       "</div>"
      ],
      "text/plain": [
       "             User        Repository        Technology  Stars  Forks  \\\n",
       "0    bregman-arie  devops-exercises            Python  39060   8609   \n",
       "1  TheAppleTucker       backend-GPT        JavaScript   2326    196   \n",
       "2        apitable          apitable        TypeScript   5096    288   \n",
       "3          shadcn                ui        TypeScript   7210    233   \n",
       "4        karpathy   nn-zero-to-hero  Jupyter Notebook   6017    500   \n",
       "\n",
       "   Contributions  \n",
       "0              5  \n",
       "1              3  \n",
       "2              5  \n",
       "3              5  \n",
       "4              2  "
      ]
     },
     "execution_count": 252,
     "metadata": {},
     "output_type": "execute_result"
    }
   ],
   "source": [
    "table.head()"
   ]
  },
  {
   "cell_type": "code",
   "execution_count": 253,
   "id": "d6c2963b",
   "metadata": {},
   "outputs": [],
   "source": [
    "fname = datetime.datetime.now().strftime(\"%b_%d_%H_%M\")"
   ]
  },
  {
   "cell_type": "code",
   "execution_count": 254,
   "id": "f507017f",
   "metadata": {},
   "outputs": [],
   "source": [
    "table.to_csv(f\"E:\\postgres_proj\\ {fname}_{url.split('=')[1]}.csv\",index=False)"
   ]
  },
  {
   "cell_type": "code",
   "execution_count": 255,
   "id": "a951822f",
   "metadata": {},
   "outputs": [],
   "source": [
    "#using with statement it automatically colses the connection\n",
    "connection = psycopg2.connect(dbname=\"trending_repos\", user=\"username\",password=\"password\",host=\"127.0.0.1\",port=\"5432\")\n",
    "try:\n",
    "    cursor = connection.cursor()\n",
    "    sql = f\"\"\"COPY tren_repo.{url.split('=')[1]}(\"User\",\"Repository\",\"Technology\",\"Stars\",\"Forks\",\"Contributions\")\n",
    "            From 'E:\\postgres_proj\\ {fname}_{url.split('=')[1]}.csv'\n",
    "            DELIMITER ','\n",
    "            CSV HEADER;\"\"\"\n",
    "    cursor.execute(sql)\n",
    "except psycopg2.DatabaseError as e:\n",
    "    print(f'Error {e}')\n",
    "    sys.exit(1)\n",
    "finally:\n",
    "    if connection:\n",
    "        connection.commit()\n",
    "        connection.close()"
   ]
  },
  {
   "cell_type": "code",
   "execution_count": null,
   "id": "29e242b8",
   "metadata": {},
   "outputs": [],
   "source": []
  },
  {
   "cell_type": "code",
   "execution_count": null,
   "id": "52e204cc",
   "metadata": {},
   "outputs": [],
   "source": []
  },
  {
   "cell_type": "code",
   "execution_count": null,
   "id": "7cb09464",
   "metadata": {},
   "outputs": [],
   "source": []
  }
 ],
 "metadata": {
  "kernelspec": {
   "display_name": "Python 3 (ipykernel)",
   "language": "python",
   "name": "python3"
  },
  "language_info": {
   "codemirror_mode": {
    "name": "ipython",
    "version": 3
   },
   "file_extension": ".py",
   "mimetype": "text/x-python",
   "name": "python",
   "nbconvert_exporter": "python",
   "pygments_lexer": "ipython3",
   "version": "3.9.13"
  }
 },
 "nbformat": 4,
 "nbformat_minor": 5
}
