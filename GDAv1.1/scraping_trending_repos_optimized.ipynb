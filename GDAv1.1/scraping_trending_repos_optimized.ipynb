{
 "cells": [
  {
   "cell_type": "code",
   "execution_count": 100,
   "metadata": {},
   "outputs": [],
   "source": [
    "from bs4 import BeautifulSoup\n",
    "import requests\n",
    "import pandas as pd\n",
    "import matplotlib.pyplot as plt\n",
    "import datetime \n",
    "import numpy as np"
   ]
  },
  {
   "cell_type": "code",
   "execution_count": 101,
   "metadata": {},
   "outputs": [],
   "source": [
    "def downloadpage(url):\n",
    "    re = requests.get(url)\n",
    "    soup = BeautifulSoup(re.text,\"html.parser\")\n",
    "    return soup"
   ]
  },
  {
   "cell_type": "code",
   "execution_count": 102,
   "metadata": {},
   "outputs": [],
   "source": [
    "def since(daterange):\n",
    "    daterange.lower()\n",
    "    url = ''\n",
    "    if daterange == \"a\":\n",
    "        url = \"https://github.com/trending?since=monthly\"\n",
    "    elif daterange == \"b\":\n",
    "        url = \"https://github.com/trending?since=weekly\"\n",
    "    else:\n",
    "        url = \"https://github.com/trending?since=daily\"\n",
    "    return url"
   ]
  },
  {
   "cell_type": "code",
   "execution_count": 103,
   "metadata": {},
   "outputs": [
    {
     "name": "stdout",
     "output_type": "stream",
     "text": [
      "Choose (a) for Monthly -(b) for Weekly -(c) for Daily: c\n"
     ]
    }
   ],
   "source": [
    "userinput  = input(\"Choose (a) for Monthly -(b) for Weekly -(c) for Daily: \")\n",
    "url  = since(userinput)"
   ]
  },
  {
   "cell_type": "code",
   "execution_count": 104,
   "metadata": {},
   "outputs": [],
   "source": [
    "page = downloadpage(url)"
   ]
  },
  {
   "cell_type": "code",
   "execution_count": 105,
   "metadata": {},
   "outputs": [],
   "source": [
    "def user(box):\n",
    "    h1 =box.find(\"h1\",class_=\"h3 lh-condensed\")\n",
    "    a = h1.find('a',href=True)\n",
    "    return a['href'][1:]"
   ]
  },
  {
   "cell_type": "code",
   "execution_count": 106,
   "metadata": {},
   "outputs": [],
   "source": [
    "def technology(box):\n",
    "    div = box.find(\"div\",class_=\"f6 color-fg-muted mt-2\")\n",
    "    lang = div.find(\"span\",itemprop = \"programmingLanguage\")\n",
    "    if lang!=None:\n",
    "            return lang.text\n",
    "    else:\n",
    "            return \"None\""
   ]
  },
  {
   "cell_type": "code",
   "execution_count": 107,
   "metadata": {},
   "outputs": [],
   "source": [
    "def starsnForks(box):\n",
    "    a = box.find_all('a',class_=\"Link--muted d-inline-block mr-3\")\n",
    "    starnfork = [a[0].get_text().strip(),a[1].get_text().strip()]\n",
    "    return starnfork"
   ]
  },
  {
   "cell_type": "code",
   "execution_count": 108,
   "metadata": {},
   "outputs": [],
   "source": [
    "def builtBy(box):\n",
    "    span = box.find('span',class_=\"d-inline-block mr-3\")\n",
    "    return [x.get('href')[1:] for x in span.find_all('a',class_=\"d-inline-block\")]"
   ]
  },
  {
   "cell_type": "code",
   "execution_count": 109,
   "metadata": {},
   "outputs": [],
   "source": [
    "def main(page):\n",
    "    for box in page.find_all(\"article\",class_='Box-row'):\n",
    "        users = user(box)\n",
    "        tech = technology(box)\n",
    "        star = starsnForks(box)[0]\n",
    "        fork = starsnForks(box)[1]\n",
    "        contributers = builtBy(box)\n",
    "        row = {\"Repository\":users,\"Technology\":tech,\"Stars\":star,\"Forks\":fork,\"Built_by\":contributers}\n",
    "        table.loc[len(table)] = [users,tech,star,fork,contributers]"
   ]
  },
  {
   "cell_type": "code",
   "execution_count": 110,
   "metadata": {},
   "outputs": [],
   "source": [
    "table=pd.DataFrame({\"Repository\":[],\"Technology\":[],\"Stars\":[],\"Forks\":[],\"Built_by\":[]})\n",
    "main(page)"
   ]
  },
  {
   "cell_type": "code",
   "execution_count": 111,
   "metadata": {},
   "outputs": [
    {
     "data": {
      "text/html": [
       "<div>\n",
       "<style scoped>\n",
       "    .dataframe tbody tr th:only-of-type {\n",
       "        vertical-align: middle;\n",
       "    }\n",
       "\n",
       "    .dataframe tbody tr th {\n",
       "        vertical-align: top;\n",
       "    }\n",
       "\n",
       "    .dataframe thead th {\n",
       "        text-align: right;\n",
       "    }\n",
       "</style>\n",
       "<table border=\"1\" class=\"dataframe\">\n",
       "  <thead>\n",
       "    <tr style=\"text-align: right;\">\n",
       "      <th></th>\n",
       "      <th>Repository</th>\n",
       "      <th>Technology</th>\n",
       "      <th>Stars</th>\n",
       "      <th>Forks</th>\n",
       "      <th>Built_by</th>\n",
       "    </tr>\n",
       "  </thead>\n",
       "  <tbody>\n",
       "    <tr>\n",
       "      <th>0</th>\n",
       "      <td>AzeemIdrisi/PhoneSploit-Pro</td>\n",
       "      <td>Python</td>\n",
       "      <td>522</td>\n",
       "      <td>82</td>\n",
       "      <td>[AzeemIdrisi]</td>\n",
       "    </tr>\n",
       "    <tr>\n",
       "      <th>1</th>\n",
       "      <td>flutter/news_toolkit</td>\n",
       "      <td>Dart</td>\n",
       "      <td>288</td>\n",
       "      <td>43</td>\n",
       "      <td>[bselwe, felangel, Jan-Stepien, simpson-peter,...</td>\n",
       "    </tr>\n",
       "    <tr>\n",
       "      <th>2</th>\n",
       "      <td>bregman-arie/devops-exercises</td>\n",
       "      <td>Python</td>\n",
       "      <td>36,035</td>\n",
       "      <td>8,242</td>\n",
       "      <td>[surister, austinsonger, bregman-arie, knoxkno...</td>\n",
       "    </tr>\n",
       "    <tr>\n",
       "      <th>3</th>\n",
       "      <td>localsend/localsend</td>\n",
       "      <td>Dart</td>\n",
       "      <td>821</td>\n",
       "      <td>30</td>\n",
       "      <td>[Tienisto, Lapis-Apple]</td>\n",
       "    </tr>\n",
       "    <tr>\n",
       "      <th>4</th>\n",
       "      <td>papers-we-love/papers-we-love</td>\n",
       "      <td>Shell</td>\n",
       "      <td>68,862</td>\n",
       "      <td>5,061</td>\n",
       "      <td>[zeeshanlakhani, DarrenN, jeremyheiler, newsom...</td>\n",
       "    </tr>\n",
       "  </tbody>\n",
       "</table>\n",
       "</div>"
      ],
      "text/plain": [
       "                      Repository Technology   Stars  Forks  \\\n",
       "0    AzeemIdrisi/PhoneSploit-Pro     Python     522     82   \n",
       "1           flutter/news_toolkit       Dart     288     43   \n",
       "2  bregman-arie/devops-exercises     Python  36,035  8,242   \n",
       "3            localsend/localsend       Dart     821     30   \n",
       "4  papers-we-love/papers-we-love      Shell  68,862  5,061   \n",
       "\n",
       "                                            Built_by  \n",
       "0                                      [AzeemIdrisi]  \n",
       "1  [bselwe, felangel, Jan-Stepien, simpson-peter,...  \n",
       "2  [surister, austinsonger, bregman-arie, knoxkno...  \n",
       "3                            [Tienisto, Lapis-Apple]  \n",
       "4  [zeeshanlakhani, DarrenN, jeremyheiler, newsom...  "
      ]
     },
     "execution_count": 111,
     "metadata": {},
     "output_type": "execute_result"
    }
   ],
   "source": [
    "table.head()"
   ]
  },
  {
   "cell_type": "code",
   "execution_count": 112,
   "metadata": {},
   "outputs": [],
   "source": [
    "userrepo = table[\"Repository\"].str.split(\"/\",n=1,expand =True)"
   ]
  },
  {
   "cell_type": "code",
   "execution_count": 113,
   "metadata": {},
   "outputs": [],
   "source": [
    "table[\"User\"] = userrepo[0]"
   ]
  },
  {
   "cell_type": "code",
   "execution_count": 114,
   "metadata": {},
   "outputs": [],
   "source": [
    "table.drop(columns=[\"Repository\"],inplace=True)"
   ]
  },
  {
   "cell_type": "code",
   "execution_count": 115,
   "metadata": {},
   "outputs": [],
   "source": [
    "table[\"Repository\"] = userrepo[1]"
   ]
  },
  {
   "cell_type": "code",
   "execution_count": 116,
   "metadata": {},
   "outputs": [],
   "source": [
    "column = table.pop(\"User\")\n",
    "table.insert(0,'User',column)"
   ]
  },
  {
   "cell_type": "code",
   "execution_count": 117,
   "metadata": {},
   "outputs": [],
   "source": [
    "column = table.pop(\"Repository\")\n",
    "table.insert(1,'Repository',column)"
   ]
  },
  {
   "cell_type": "code",
   "execution_count": 118,
   "metadata": {},
   "outputs": [],
   "source": [
    "table[\"Contributions\"] = table[\"Built_by\"].apply(lambda row: len(row))"
   ]
  },
  {
   "cell_type": "code",
   "execution_count": 119,
   "metadata": {},
   "outputs": [
    {
     "data": {
      "text/html": [
       "<div>\n",
       "<style scoped>\n",
       "    .dataframe tbody tr th:only-of-type {\n",
       "        vertical-align: middle;\n",
       "    }\n",
       "\n",
       "    .dataframe tbody tr th {\n",
       "        vertical-align: top;\n",
       "    }\n",
       "\n",
       "    .dataframe thead th {\n",
       "        text-align: right;\n",
       "    }\n",
       "</style>\n",
       "<table border=\"1\" class=\"dataframe\">\n",
       "  <thead>\n",
       "    <tr style=\"text-align: right;\">\n",
       "      <th></th>\n",
       "      <th>User</th>\n",
       "      <th>Repository</th>\n",
       "      <th>Technology</th>\n",
       "      <th>Stars</th>\n",
       "      <th>Forks</th>\n",
       "      <th>Built_by</th>\n",
       "      <th>Contributions</th>\n",
       "    </tr>\n",
       "  </thead>\n",
       "  <tbody>\n",
       "    <tr>\n",
       "      <th>0</th>\n",
       "      <td>AzeemIdrisi</td>\n",
       "      <td>PhoneSploit-Pro</td>\n",
       "      <td>Python</td>\n",
       "      <td>522</td>\n",
       "      <td>82</td>\n",
       "      <td>[AzeemIdrisi]</td>\n",
       "      <td>1</td>\n",
       "    </tr>\n",
       "    <tr>\n",
       "      <th>1</th>\n",
       "      <td>flutter</td>\n",
       "      <td>news_toolkit</td>\n",
       "      <td>Dart</td>\n",
       "      <td>288</td>\n",
       "      <td>43</td>\n",
       "      <td>[bselwe, felangel, Jan-Stepien, simpson-peter,...</td>\n",
       "      <td>5</td>\n",
       "    </tr>\n",
       "    <tr>\n",
       "      <th>2</th>\n",
       "      <td>bregman-arie</td>\n",
       "      <td>devops-exercises</td>\n",
       "      <td>Python</td>\n",
       "      <td>36,035</td>\n",
       "      <td>8,242</td>\n",
       "      <td>[surister, austinsonger, bregman-arie, knoxkno...</td>\n",
       "      <td>5</td>\n",
       "    </tr>\n",
       "    <tr>\n",
       "      <th>3</th>\n",
       "      <td>localsend</td>\n",
       "      <td>localsend</td>\n",
       "      <td>Dart</td>\n",
       "      <td>821</td>\n",
       "      <td>30</td>\n",
       "      <td>[Tienisto, Lapis-Apple]</td>\n",
       "      <td>2</td>\n",
       "    </tr>\n",
       "    <tr>\n",
       "      <th>4</th>\n",
       "      <td>papers-we-love</td>\n",
       "      <td>papers-we-love</td>\n",
       "      <td>Shell</td>\n",
       "      <td>68,862</td>\n",
       "      <td>5,061</td>\n",
       "      <td>[zeeshanlakhani, DarrenN, jeremyheiler, newsom...</td>\n",
       "      <td>5</td>\n",
       "    </tr>\n",
       "  </tbody>\n",
       "</table>\n",
       "</div>"
      ],
      "text/plain": [
       "             User        Repository Technology   Stars  Forks  \\\n",
       "0     AzeemIdrisi   PhoneSploit-Pro     Python     522     82   \n",
       "1         flutter      news_toolkit       Dart     288     43   \n",
       "2    bregman-arie  devops-exercises     Python  36,035  8,242   \n",
       "3       localsend         localsend       Dart     821     30   \n",
       "4  papers-we-love    papers-we-love      Shell  68,862  5,061   \n",
       "\n",
       "                                            Built_by  Contributions  \n",
       "0                                      [AzeemIdrisi]              1  \n",
       "1  [bselwe, felangel, Jan-Stepien, simpson-peter,...              5  \n",
       "2  [surister, austinsonger, bregman-arie, knoxkno...              5  \n",
       "3                            [Tienisto, Lapis-Apple]              2  \n",
       "4  [zeeshanlakhani, DarrenN, jeremyheiler, newsom...              5  "
      ]
     },
     "execution_count": 119,
     "metadata": {},
     "output_type": "execute_result"
    }
   ],
   "source": [
    "table.head()"
   ]
  },
  {
   "cell_type": "code",
   "execution_count": 120,
   "metadata": {},
   "outputs": [],
   "source": [
    "fname = datetime.datetime.now().strftime(\"%b_%d_%H_%M\")"
   ]
  },
  {
   "cell_type": "code",
   "execution_count": 121,
   "metadata": {},
   "outputs": [],
   "source": [
    "table.to_csv(f\"{fname}_{url.split('=')[1]}.csv\")"
   ]
  },
  {
   "cell_type": "code",
   "execution_count": 126,
   "metadata": {},
   "outputs": [
    {
     "data": {
      "text/plain": [
       "<BarContainer object of 5 artists>"
      ]
     },
     "execution_count": 126,
     "metadata": {},
     "output_type": "execute_result"
    },
    {
     "data": {
      "image/png": "[encoded data removed]",
      "text/plain": [
       "<Figure size 360x360 with 1 Axes>"
      ]
     },
     "metadata": {
      "needs_background": "light"
     },
     "output_type": "display_data"
    }
   ],
   "source": [
    "plt.figure(figsize=(5,5))\n",
    "plt.bar(table[\"User\"][:5],table['Contributions'][:5],width=0.5)"
   ]
  },
  {
   "cell_type": "code",
   "execution_count": 123,
   "metadata": {},
   "outputs": [
    {
     "data": {
      "text/plain": [
       "{'Python': 6,\n",
       " 'None': 5,\n",
       " 'Dart': 3,\n",
       " 'TypeScript': 3,\n",
       " 'JavaScript': 2,\n",
       " 'C++': 1,\n",
       " 'Jupyter Notebook': 1,\n",
       " 'HTML': 1,\n",
       " 'Rust': 1,\n",
       " 'Shell': 1,\n",
       " 'Java': 1}"
      ]
     },
     "execution_count": 123,
     "metadata": {},
     "output_type": "execute_result"
    }
   ],
   "source": [
    "data = dict(table['Technology'].value_counts())\n",
    "data"
   ]
  },
  {
   "cell_type": "code",
   "execution_count": 124,
   "metadata": {},
   "outputs": [],
   "source": [
    "def func(pct, allvalues):\n",
    "    absolute = int(pct / 100.*np.sum(allvalues))\n",
    "    return \"{:.1f}%\".format(pct, absolute)"
   ]
  },
  {
   "cell_type": "code",
   "execution_count": 125,
   "metadata": {},
   "outputs": [
    {
     "data": {
      "image/png": "[encoded data removed]",
      "text/plain": [
       "<Figure size 504x504 with 1 Axes>"
      ]
     },
     "metadata": {},
     "output_type": "display_data"
    }
   ],
   "source": [
    "fig, ax = plt.subplots(figsize =(7, 7))\n",
    "ax.pie(list(data.values()),autopct = lambda pct: func(pct, list(data.values())),labels=list(data.keys()),shadow=True)\n",
    "ax.legend(title =\"Programing Languages\",loc =\"center left\",bbox_to_anchor =(1, 0, 0.5, 1.5))\n",
    "plt.show()"
   ]
  },
  {
   "cell_type": "code",
   "execution_count": null,
   "metadata": {},
   "outputs": [],
   "source": []
  }
 ],
 "metadata": {
  "kernelspec": {
   "display_name": "Python 3",
   "language": "python",
   "name": "python3"
  },
  "language_info": {
   "codemirror_mode": {
    "name": "ipython",
    "version": 3
   },
   "file_extension": ".py",
   "mimetype": "text/x-python",
   "name": "python",
   "nbconvert_exporter": "python",
   "pygments_lexer": "ipython3",
   "version": "3.7.6"
  }
 },
 "nbformat": 4,
 "nbformat_minor": 5
}
